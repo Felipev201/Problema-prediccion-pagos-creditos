{
 "cells": [
  {
   "cell_type": "markdown",
   "metadata": {},
   "source": [
    "# Problema de predicción de pagos de crédito\n",
    "\n",
    "En este desafío su trabajo consiste en implementar un modelo que prediga si un crédito será pagado a tiempo o no.\n",
    "\n",
    "1. La clase minoritaria o de interés está representada por 1 (crédito no pagado a\n",
    "tiempo) y la clase mayoritaria por 0 (crédito pagado a tiempo).\n",
    "2. Las métricas de evaluación que usará son Gini y F1-score.\n",
    "3. El conjunto está desbalanceado.\n",
    "4. Las variables discretas que fueron convertidas a columnas, se identifican con una\n",
    "letra diferente (d69 y d70).\n",
    "5. Si decide usar regresión logística, tenga en cuenta que para estos problemas suele\n",
    "hacerse un tratamiento previo a los datos usando Weight of Evidence and Binning. Si\n",
    "por el contrario usa algoritmos más complejos, tenga en cuenta que debe indicar\n",
    "conceptualmente, qué haría para dar indicios de cuáles son las variables que tienen\n",
    "más peso en la decisión."
   ]
  },
  {
   "cell_type": "markdown",
   "metadata": {},
   "source": [
    "Se importan algunas librerias básicas"
   ]
  },
  {
   "cell_type": "code",
   "execution_count": 1,
   "metadata": {},
   "outputs": [],
   "source": [
    "import numpy as np\n",
    "import pandas as pd\n",
    "import matplotlib.pyplot as plt\n",
    "import seaborn as sn\n",
    "from scipy import stats"
   ]
  },
  {
   "cell_type": "markdown",
   "metadata": {},
   "source": [
    "## Carga de datos\n",
    "\n",
    "Se cargan los datos tanto de entrenamiento como de test en dataframes distintos. Y se hace una visualizacion de como quedó el \n",
    "dataframe"
   ]
  },
  {
   "cell_type": "code",
   "execution_count": 2,
   "metadata": {},
   "outputs": [],
   "source": [
    "# Se cargan los datos\n",
    "train_df = pd.read_csv(\"train.csv\")\n",
    "train_label = np.genfromtxt(\"train_label.csv\", delimiter=\",\")\n",
    "test_df = pd.read_csv(\"test.csv\")\n",
    "test_label = np.genfromtxt(\"test_label.csv\", delimiter=\",\")\n",
    "\n",
    "\n",
    "# Debido a que la columna que no está nombrada tiene valores únicos se le considerará como un índice\n",
    "# y se le pondrá el nombre de ID y se eliminará como variable\n",
    "train_df = train_df.rename(columns={\"Unnamed: 0\": \"id\"})\n",
    "train_df.index = train_df['id']\n",
    "test_df = test_df.rename(columns={\"Unnamed: 0\": \"id\"})\n",
    "test_df.index = test_df['id']\n",
    "\n",
    "del train_df['id'], test_df['id']"
   ]
  },
  {
   "cell_type": "code",
   "execution_count": 3,
   "metadata": {},
   "outputs": [
    {
     "data": {
      "text/html": [
       "<div>\n",
       "<style scoped>\n",
       "    .dataframe tbody tr th:only-of-type {\n",
       "        vertical-align: middle;\n",
       "    }\n",
       "\n",
       "    .dataframe tbody tr th {\n",
       "        vertical-align: top;\n",
       "    }\n",
       "\n",
       "    .dataframe thead th {\n",
       "        text-align: right;\n",
       "    }\n",
       "</style>\n",
       "<table border=\"1\" class=\"dataframe\">\n",
       "  <thead>\n",
       "    <tr style=\"text-align: right;\">\n",
       "      <th></th>\n",
       "      <th>v0</th>\n",
       "      <th>v1</th>\n",
       "      <th>v2</th>\n",
       "      <th>v3</th>\n",
       "      <th>v4</th>\n",
       "      <th>v5</th>\n",
       "      <th>v6</th>\n",
       "      <th>v7</th>\n",
       "      <th>v8</th>\n",
       "      <th>v9</th>\n",
       "      <th>...</th>\n",
       "      <th>ae62</th>\n",
       "      <th>ae63</th>\n",
       "      <th>ae64</th>\n",
       "      <th>ae65</th>\n",
       "      <th>ae66</th>\n",
       "      <th>ae67</th>\n",
       "      <th>ae68</th>\n",
       "      <th>d69</th>\n",
       "      <th>d70</th>\n",
       "      <th>label</th>\n",
       "    </tr>\n",
       "    <tr>\n",
       "      <th>id</th>\n",
       "      <th></th>\n",
       "      <th></th>\n",
       "      <th></th>\n",
       "      <th></th>\n",
       "      <th></th>\n",
       "      <th></th>\n",
       "      <th></th>\n",
       "      <th></th>\n",
       "      <th></th>\n",
       "      <th></th>\n",
       "      <th></th>\n",
       "      <th></th>\n",
       "      <th></th>\n",
       "      <th></th>\n",
       "      <th></th>\n",
       "      <th></th>\n",
       "      <th></th>\n",
       "      <th></th>\n",
       "      <th></th>\n",
       "      <th></th>\n",
       "      <th></th>\n",
       "    </tr>\n",
       "  </thead>\n",
       "  <tbody>\n",
       "    <tr>\n",
       "      <td>1651</td>\n",
       "      <td>0.00</td>\n",
       "      <td>143270.10</td>\n",
       "      <td>100.0</td>\n",
       "      <td>0.0</td>\n",
       "      <td>0.0</td>\n",
       "      <td>6.309056e+07</td>\n",
       "      <td>4199850.00</td>\n",
       "      <td>0.0</td>\n",
       "      <td>6240000.0</td>\n",
       "      <td>17.0</td>\n",
       "      <td>...</td>\n",
       "      <td>0</td>\n",
       "      <td>0</td>\n",
       "      <td>0</td>\n",
       "      <td>0</td>\n",
       "      <td>0</td>\n",
       "      <td>0</td>\n",
       "      <td>0</td>\n",
       "      <td>0</td>\n",
       "      <td>0</td>\n",
       "      <td>0.0</td>\n",
       "    </tr>\n",
       "    <tr>\n",
       "      <td>1370</td>\n",
       "      <td>0.00</td>\n",
       "      <td>1403461.97</td>\n",
       "      <td>90.0</td>\n",
       "      <td>10.0</td>\n",
       "      <td>29.0</td>\n",
       "      <td>8.013914e+06</td>\n",
       "      <td>8177030.69</td>\n",
       "      <td>44951.9</td>\n",
       "      <td>0.0</td>\n",
       "      <td>12.0</td>\n",
       "      <td>...</td>\n",
       "      <td>0</td>\n",
       "      <td>0</td>\n",
       "      <td>0</td>\n",
       "      <td>0</td>\n",
       "      <td>0</td>\n",
       "      <td>0</td>\n",
       "      <td>0</td>\n",
       "      <td>0</td>\n",
       "      <td>0</td>\n",
       "      <td>1.0</td>\n",
       "    </tr>\n",
       "    <tr>\n",
       "      <td>2649</td>\n",
       "      <td>19800.24</td>\n",
       "      <td>63401.41</td>\n",
       "      <td>100.0</td>\n",
       "      <td>0.0</td>\n",
       "      <td>0.0</td>\n",
       "      <td>3.233846e+05</td>\n",
       "      <td>67610.22</td>\n",
       "      <td>0.0</td>\n",
       "      <td>0.0</td>\n",
       "      <td>4.0</td>\n",
       "      <td>...</td>\n",
       "      <td>0</td>\n",
       "      <td>0</td>\n",
       "      <td>0</td>\n",
       "      <td>0</td>\n",
       "      <td>0</td>\n",
       "      <td>0</td>\n",
       "      <td>0</td>\n",
       "      <td>1</td>\n",
       "      <td>0</td>\n",
       "      <td>1.0</td>\n",
       "    </tr>\n",
       "    <tr>\n",
       "      <td>564</td>\n",
       "      <td>0.00</td>\n",
       "      <td>10585032.22</td>\n",
       "      <td>100.0</td>\n",
       "      <td>0.0</td>\n",
       "      <td>5.0</td>\n",
       "      <td>2.959668e+07</td>\n",
       "      <td>186964.54</td>\n",
       "      <td>0.0</td>\n",
       "      <td>4500000.0</td>\n",
       "      <td>11.0</td>\n",
       "      <td>...</td>\n",
       "      <td>0</td>\n",
       "      <td>0</td>\n",
       "      <td>0</td>\n",
       "      <td>0</td>\n",
       "      <td>0</td>\n",
       "      <td>0</td>\n",
       "      <td>0</td>\n",
       "      <td>0</td>\n",
       "      <td>0</td>\n",
       "      <td>0.0</td>\n",
       "    </tr>\n",
       "    <tr>\n",
       "      <td>2728</td>\n",
       "      <td>0.00</td>\n",
       "      <td>11259663.09</td>\n",
       "      <td>78.0</td>\n",
       "      <td>22.0</td>\n",
       "      <td>0.0</td>\n",
       "      <td>3.362660e+07</td>\n",
       "      <td>0.00</td>\n",
       "      <td>0.0</td>\n",
       "      <td>3972827.7</td>\n",
       "      <td>24.0</td>\n",
       "      <td>...</td>\n",
       "      <td>1</td>\n",
       "      <td>0</td>\n",
       "      <td>0</td>\n",
       "      <td>0</td>\n",
       "      <td>0</td>\n",
       "      <td>0</td>\n",
       "      <td>0</td>\n",
       "      <td>0</td>\n",
       "      <td>0</td>\n",
       "      <td>1.0</td>\n",
       "    </tr>\n",
       "    <tr>\n",
       "      <td>2696</td>\n",
       "      <td>0.00</td>\n",
       "      <td>0.00</td>\n",
       "      <td>100.0</td>\n",
       "      <td>0.0</td>\n",
       "      <td>0.0</td>\n",
       "      <td>1.000000e+06</td>\n",
       "      <td>0.00</td>\n",
       "      <td>0.0</td>\n",
       "      <td>900000.0</td>\n",
       "      <td>10.0</td>\n",
       "      <td>...</td>\n",
       "      <td>0</td>\n",
       "      <td>0</td>\n",
       "      <td>0</td>\n",
       "      <td>0</td>\n",
       "      <td>0</td>\n",
       "      <td>0</td>\n",
       "      <td>0</td>\n",
       "      <td>0</td>\n",
       "      <td>0</td>\n",
       "      <td>1.0</td>\n",
       "    </tr>\n",
       "    <tr>\n",
       "      <td>173</td>\n",
       "      <td>0.00</td>\n",
       "      <td>130436.41</td>\n",
       "      <td>100.0</td>\n",
       "      <td>0.0</td>\n",
       "      <td>0.0</td>\n",
       "      <td>2.355235e+08</td>\n",
       "      <td>9907068.37</td>\n",
       "      <td>0.0</td>\n",
       "      <td>0.0</td>\n",
       "      <td>29.0</td>\n",
       "      <td>...</td>\n",
       "      <td>0</td>\n",
       "      <td>0</td>\n",
       "      <td>0</td>\n",
       "      <td>0</td>\n",
       "      <td>0</td>\n",
       "      <td>0</td>\n",
       "      <td>0</td>\n",
       "      <td>0</td>\n",
       "      <td>0</td>\n",
       "      <td>1.0</td>\n",
       "    </tr>\n",
       "    <tr>\n",
       "      <td>1939</td>\n",
       "      <td>0.00</td>\n",
       "      <td>2714579.60</td>\n",
       "      <td>100.0</td>\n",
       "      <td>0.0</td>\n",
       "      <td>3.0</td>\n",
       "      <td>1.472134e+07</td>\n",
       "      <td>0.00</td>\n",
       "      <td>0.0</td>\n",
       "      <td>3071719.0</td>\n",
       "      <td>23.0</td>\n",
       "      <td>...</td>\n",
       "      <td>0</td>\n",
       "      <td>0</td>\n",
       "      <td>0</td>\n",
       "      <td>0</td>\n",
       "      <td>0</td>\n",
       "      <td>0</td>\n",
       "      <td>0</td>\n",
       "      <td>0</td>\n",
       "      <td>0</td>\n",
       "      <td>0.0</td>\n",
       "    </tr>\n",
       "    <tr>\n",
       "      <td>2512</td>\n",
       "      <td>0.00</td>\n",
       "      <td>6400113.20</td>\n",
       "      <td>100.0</td>\n",
       "      <td>0.0</td>\n",
       "      <td>5.0</td>\n",
       "      <td>3.308427e+07</td>\n",
       "      <td>0.00</td>\n",
       "      <td>0.0</td>\n",
       "      <td>0.0</td>\n",
       "      <td>24.0</td>\n",
       "      <td>...</td>\n",
       "      <td>1</td>\n",
       "      <td>0</td>\n",
       "      <td>0</td>\n",
       "      <td>0</td>\n",
       "      <td>0</td>\n",
       "      <td>0</td>\n",
       "      <td>0</td>\n",
       "      <td>0</td>\n",
       "      <td>0</td>\n",
       "      <td>0.0</td>\n",
       "    </tr>\n",
       "    <tr>\n",
       "      <td>1151</td>\n",
       "      <td>0.00</td>\n",
       "      <td>0.00</td>\n",
       "      <td>100.0</td>\n",
       "      <td>0.0</td>\n",
       "      <td>1.0</td>\n",
       "      <td>3.788707e+07</td>\n",
       "      <td>41951397.14</td>\n",
       "      <td>0.0</td>\n",
       "      <td>8000000.0</td>\n",
       "      <td>46.0</td>\n",
       "      <td>...</td>\n",
       "      <td>0</td>\n",
       "      <td>0</td>\n",
       "      <td>0</td>\n",
       "      <td>0</td>\n",
       "      <td>0</td>\n",
       "      <td>0</td>\n",
       "      <td>0</td>\n",
       "      <td>0</td>\n",
       "      <td>0</td>\n",
       "      <td>0.0</td>\n",
       "    </tr>\n",
       "  </tbody>\n",
       "</table>\n",
       "<p>10 rows × 72 columns</p>\n",
       "</div>"
      ],
      "text/plain": [
       "            v0           v1     v2    v3    v4            v5           v6  \\\n",
       "id                                                                          \n",
       "1651      0.00    143270.10  100.0   0.0   0.0  6.309056e+07   4199850.00   \n",
       "1370      0.00   1403461.97   90.0  10.0  29.0  8.013914e+06   8177030.69   \n",
       "2649  19800.24     63401.41  100.0   0.0   0.0  3.233846e+05     67610.22   \n",
       "564       0.00  10585032.22  100.0   0.0   5.0  2.959668e+07    186964.54   \n",
       "2728      0.00  11259663.09   78.0  22.0   0.0  3.362660e+07         0.00   \n",
       "2696      0.00         0.00  100.0   0.0   0.0  1.000000e+06         0.00   \n",
       "173       0.00    130436.41  100.0   0.0   0.0  2.355235e+08   9907068.37   \n",
       "1939      0.00   2714579.60  100.0   0.0   3.0  1.472134e+07         0.00   \n",
       "2512      0.00   6400113.20  100.0   0.0   5.0  3.308427e+07         0.00   \n",
       "1151      0.00         0.00  100.0   0.0   1.0  3.788707e+07  41951397.14   \n",
       "\n",
       "           v7         v8    v9  ...  ae62  ae63  ae64  ae65  ae66  ae67  ae68  \\\n",
       "id                              ...                                             \n",
       "1651      0.0  6240000.0  17.0  ...     0     0     0     0     0     0     0   \n",
       "1370  44951.9        0.0  12.0  ...     0     0     0     0     0     0     0   \n",
       "2649      0.0        0.0   4.0  ...     0     0     0     0     0     0     0   \n",
       "564       0.0  4500000.0  11.0  ...     0     0     0     0     0     0     0   \n",
       "2728      0.0  3972827.7  24.0  ...     1     0     0     0     0     0     0   \n",
       "2696      0.0   900000.0  10.0  ...     0     0     0     0     0     0     0   \n",
       "173       0.0        0.0  29.0  ...     0     0     0     0     0     0     0   \n",
       "1939      0.0  3071719.0  23.0  ...     0     0     0     0     0     0     0   \n",
       "2512      0.0        0.0  24.0  ...     1     0     0     0     0     0     0   \n",
       "1151      0.0  8000000.0  46.0  ...     0     0     0     0     0     0     0   \n",
       "\n",
       "      d69  d70  label  \n",
       "id                     \n",
       "1651    0    0    0.0  \n",
       "1370    0    0    1.0  \n",
       "2649    1    0    1.0  \n",
       "564     0    0    0.0  \n",
       "2728    0    0    1.0  \n",
       "2696    0    0    1.0  \n",
       "173     0    0    1.0  \n",
       "1939    0    0    0.0  \n",
       "2512    0    0    0.0  \n",
       "1151    0    0    0.0  \n",
       "\n",
       "[10 rows x 72 columns]"
      ]
     },
     "execution_count": 3,
     "metadata": {},
     "output_type": "execute_result"
    }
   ],
   "source": [
    "# Se le agregan las etiquetas al dataframe\n",
    "train_label_df = pd.DataFrame(train_label, columns=['label'], index=train_df.index)\n",
    "train = pd.concat([train_df, train_label_df], axis=1)\n",
    "\n",
    "test_label_df = pd.DataFrame(test_label, columns=['label'], index=test_df.index)\n",
    "test = pd.concat([test_df, test_label_df], axis=1)\n",
    "\n",
    "train.head(10)"
   ]
  },
  {
   "cell_type": "markdown",
   "metadata": {},
   "source": [
    "## Observaciones\n",
    "\n",
    "En esta seccion se realizan algunas observaciones del conjnto de datos"
   ]
  },
  {
   "cell_type": "code",
   "execution_count": 4,
   "metadata": {},
   "outputs": [
    {
     "name": "stdout",
     "output_type": "stream",
     "text": [
      "La razon entre casos de crédito no pagado y crédito pagado en el conjunto de entrenamiento es de: 0.196\n"
     ]
    }
   ],
   "source": [
    "# Se verifica que el conjunto está desbalanceado y por cuanto\n",
    "raz = np.sum(train_label)/train_label.shape[0]\n",
    "print(f'La razon entre casos de crédito no pagado y crédito pagado en el conjunto de entrenamiento es de: {raz:0.3f}')"
   ]
  },
  {
   "cell_type": "markdown",
   "metadata": {},
   "source": [
    "La variable 34 y 36 es la misma en casi todas las instancias (solo en 5 instancias son distintas), por lo que una es redundante y se elimina del dataset"
   ]
  },
  {
   "cell_type": "code",
   "execution_count": 5,
   "metadata": {},
   "outputs": [
    {
     "name": "stdout",
     "output_type": "stream",
     "text": [
      "Solo en  5  instancias las variables 34 y 36 son distintas\n"
     ]
    },
    {
     "data": {
      "text/html": [
       "<div>\n",
       "<style scoped>\n",
       "    .dataframe tbody tr th:only-of-type {\n",
       "        vertical-align: middle;\n",
       "    }\n",
       "\n",
       "    .dataframe tbody tr th {\n",
       "        vertical-align: top;\n",
       "    }\n",
       "\n",
       "    .dataframe thead th {\n",
       "        text-align: right;\n",
       "    }\n",
       "</style>\n",
       "<table border=\"1\" class=\"dataframe\">\n",
       "  <thead>\n",
       "    <tr style=\"text-align: right;\">\n",
       "      <th></th>\n",
       "      <th>label</th>\n",
       "      <th>v34</th>\n",
       "      <th>v36</th>\n",
       "    </tr>\n",
       "    <tr>\n",
       "      <th>id</th>\n",
       "      <th></th>\n",
       "      <th></th>\n",
       "      <th></th>\n",
       "    </tr>\n",
       "  </thead>\n",
       "  <tbody>\n",
       "    <tr>\n",
       "      <td>219</td>\n",
       "      <td>1.0</td>\n",
       "      <td>60.0</td>\n",
       "      <td>29.0</td>\n",
       "    </tr>\n",
       "    <tr>\n",
       "      <td>2509</td>\n",
       "      <td>0.0</td>\n",
       "      <td>397.0</td>\n",
       "      <td>92.0</td>\n",
       "    </tr>\n",
       "    <tr>\n",
       "      <td>2238</td>\n",
       "      <td>1.0</td>\n",
       "      <td>152.0</td>\n",
       "      <td>29.0</td>\n",
       "    </tr>\n",
       "    <tr>\n",
       "      <td>1265</td>\n",
       "      <td>1.0</td>\n",
       "      <td>123.0</td>\n",
       "      <td>31.0</td>\n",
       "    </tr>\n",
       "    <tr>\n",
       "      <td>1008</td>\n",
       "      <td>0.0</td>\n",
       "      <td>700.0</td>\n",
       "      <td>92.0</td>\n",
       "    </tr>\n",
       "  </tbody>\n",
       "</table>\n",
       "</div>"
      ],
      "text/plain": [
       "      label    v34   v36\n",
       "id                      \n",
       "219     1.0   60.0  29.0\n",
       "2509    0.0  397.0  92.0\n",
       "2238    1.0  152.0  29.0\n",
       "1265    1.0  123.0  31.0\n",
       "1008    0.0  700.0  92.0"
      ]
     },
     "execution_count": 5,
     "metadata": {},
     "output_type": "execute_result"
    }
   ],
   "source": [
    "print('Solo en ',np.sum(train['v34']!=train['v36']),' instancias las variables 34 y 36 son distintas')\n",
    "\n",
    "train.loc[train['v34']!=train['v36'], ['label','v34','v36']]"
   ]
  },
  {
   "cell_type": "markdown",
   "metadata": {},
   "source": [
    "Las variable v21 y v22, estan directamente relacionadas con v30, $v_{21} + v_{22} = v_{30}$, por lo que una variable es redundante y se debe eliminar."
   ]
  },
  {
   "cell_type": "code",
   "execution_count": 6,
   "metadata": {},
   "outputs": [
    {
     "name": "stdout",
     "output_type": "stream",
     "text": [
      "v21 + v22 = v30 para todas las instancias\n"
     ]
    },
    {
     "data": {
      "text/html": [
       "<div>\n",
       "<style scoped>\n",
       "    .dataframe tbody tr th:only-of-type {\n",
       "        vertical-align: middle;\n",
       "    }\n",
       "\n",
       "    .dataframe tbody tr th {\n",
       "        vertical-align: top;\n",
       "    }\n",
       "\n",
       "    .dataframe thead th {\n",
       "        text-align: right;\n",
       "    }\n",
       "</style>\n",
       "<table border=\"1\" class=\"dataframe\">\n",
       "  <thead>\n",
       "    <tr style=\"text-align: right;\">\n",
       "      <th></th>\n",
       "      <th>label</th>\n",
       "      <th>v30</th>\n",
       "    </tr>\n",
       "    <tr>\n",
       "      <th>id</th>\n",
       "      <th></th>\n",
       "      <th></th>\n",
       "    </tr>\n",
       "  </thead>\n",
       "  <tbody>\n",
       "  </tbody>\n",
       "</table>\n",
       "</div>"
      ],
      "text/plain": [
       "Empty DataFrame\n",
       "Columns: [label, v30]\n",
       "Index: []"
      ]
     },
     "execution_count": 6,
     "metadata": {},
     "output_type": "execute_result"
    }
   ],
   "source": [
    "print('v21 + v22 = v30 para todas las instancias')\n",
    "train.loc[train['v21']+train['v22']!=train['v30'], ['label','v30']]"
   ]
  },
  {
   "cell_type": "markdown",
   "metadata": {},
   "source": [
    "Las variable v16 y v29, estan relacionadas ya que la variable v29 solo toma valores de 0 ó 100. \n",
    "\n",
    "Cuando toma valores de 0, la variable v16 tambien es 0, mientras que cuando toma el valor 100 la variable v16 es diferente de 0.\n",
    "\n",
    "A continuación se imprimen las unicas 11 instancias donde no sucede eso."
   ]
  },
  {
   "cell_type": "code",
   "execution_count": 7,
   "metadata": {},
   "outputs": [
    {
     "data": {
      "text/html": [
       "<div>\n",
       "<style scoped>\n",
       "    .dataframe tbody tr th:only-of-type {\n",
       "        vertical-align: middle;\n",
       "    }\n",
       "\n",
       "    .dataframe tbody tr th {\n",
       "        vertical-align: top;\n",
       "    }\n",
       "\n",
       "    .dataframe thead th {\n",
       "        text-align: right;\n",
       "    }\n",
       "</style>\n",
       "<table border=\"1\" class=\"dataframe\">\n",
       "  <thead>\n",
       "    <tr style=\"text-align: right;\">\n",
       "      <th></th>\n",
       "      <th>label</th>\n",
       "      <th>v16</th>\n",
       "      <th>v29</th>\n",
       "    </tr>\n",
       "    <tr>\n",
       "      <th>id</th>\n",
       "      <th></th>\n",
       "      <th></th>\n",
       "      <th></th>\n",
       "    </tr>\n",
       "  </thead>\n",
       "  <tbody>\n",
       "    <tr>\n",
       "      <td>758</td>\n",
       "      <td>1.0</td>\n",
       "      <td>82.0</td>\n",
       "      <td>0.0</td>\n",
       "    </tr>\n",
       "    <tr>\n",
       "      <td>1833</td>\n",
       "      <td>0.0</td>\n",
       "      <td>38.0</td>\n",
       "      <td>0.0</td>\n",
       "    </tr>\n",
       "    <tr>\n",
       "      <td>315</td>\n",
       "      <td>0.0</td>\n",
       "      <td>2151.0</td>\n",
       "      <td>0.0</td>\n",
       "    </tr>\n",
       "    <tr>\n",
       "      <td>2594</td>\n",
       "      <td>0.0</td>\n",
       "      <td>381.0</td>\n",
       "      <td>0.0</td>\n",
       "    </tr>\n",
       "    <tr>\n",
       "      <td>1664</td>\n",
       "      <td>0.0</td>\n",
       "      <td>84.0</td>\n",
       "      <td>0.0</td>\n",
       "    </tr>\n",
       "    <tr>\n",
       "      <td>916</td>\n",
       "      <td>0.0</td>\n",
       "      <td>472.0</td>\n",
       "      <td>0.0</td>\n",
       "    </tr>\n",
       "    <tr>\n",
       "      <td>2510</td>\n",
       "      <td>0.0</td>\n",
       "      <td>381.0</td>\n",
       "      <td>0.0</td>\n",
       "    </tr>\n",
       "    <tr>\n",
       "      <td>1480</td>\n",
       "      <td>1.0</td>\n",
       "      <td>252.0</td>\n",
       "      <td>0.0</td>\n",
       "    </tr>\n",
       "    <tr>\n",
       "      <td>563</td>\n",
       "      <td>0.0</td>\n",
       "      <td>984.0</td>\n",
       "      <td>0.0</td>\n",
       "    </tr>\n",
       "    <tr>\n",
       "      <td>2122</td>\n",
       "      <td>0.0</td>\n",
       "      <td>472.0</td>\n",
       "      <td>0.0</td>\n",
       "    </tr>\n",
       "    <tr>\n",
       "      <td>1282</td>\n",
       "      <td>0.0</td>\n",
       "      <td>486.0</td>\n",
       "      <td>0.0</td>\n",
       "    </tr>\n",
       "  </tbody>\n",
       "</table>\n",
       "</div>"
      ],
      "text/plain": [
       "      label     v16  v29\n",
       "id                      \n",
       "758     1.0    82.0  0.0\n",
       "1833    0.0    38.0  0.0\n",
       "315     0.0  2151.0  0.0\n",
       "2594    0.0   381.0  0.0\n",
       "1664    0.0    84.0  0.0\n",
       "916     0.0   472.0  0.0\n",
       "2510    0.0   381.0  0.0\n",
       "1480    1.0   252.0  0.0\n",
       "563     0.0   984.0  0.0\n",
       "2122    0.0   472.0  0.0\n",
       "1282    0.0   486.0  0.0"
      ]
     },
     "execution_count": 7,
     "metadata": {},
     "output_type": "execute_result"
    }
   ],
   "source": [
    "train.loc[train['v29']*train['v16']/100!=train['v16'], ['label','v16','v29']]"
   ]
  },
  {
   "cell_type": "markdown",
   "metadata": {},
   "source": [
    "Las relaciones anteriores se obtuvieron de analizar y observar los datos tanto en gráficas, como sacando coeficientes de correlacion. \n",
    "\n",
    "El coeficiente de correlacion que se utilizó en este caso fue el de Spearman para obtener tanto realciones lineales como no lineales."
   ]
  },
  {
   "cell_type": "code",
   "execution_count": 8,
   "metadata": {},
   "outputs": [],
   "source": [
    "corr,pval = stats.spearmanr(train.to_numpy()[:,0:37])\n",
    "\n",
    "# Quitar comentario para ver la matriz de correlacion\n",
    "#print((np.abs(corr)>0.90)*1)\n",
    "#print(corr[np.abs(corr)>0.90])"
   ]
  },
  {
   "cell_type": "code",
   "execution_count": 9,
   "metadata": {},
   "outputs": [
    {
     "name": "stdout",
     "output_type": "stream",
     "text": [
      "Ejemplo de visualización. Aqui se puede ver la relacion de la variable 2 con la variable 3\n"
     ]
    },
    {
     "data": {
      "text/plain": [
       "Text(0.5, 1.0, 'Relacion entre variables 2 y 3')"
      ]
     },
     "execution_count": 9,
     "metadata": {},
     "output_type": "execute_result"
    },
    {
     "data": {
      "image/png": "[encoded data removed]",
      "text/plain": [
       "<Figure size 432x288 with 1 Axes>"
      ]
     },
     "metadata": {
      "needs_background": "light"
     },
     "output_type": "display_data"
    }
   ],
   "source": [
    "print('Ejemplo de visualización. Aqui se puede ver la relacion de la variable 2 con la variable 3')\n",
    "plt.scatter(train['v2'],train['v3'])\n",
    "plt.xlabel('v2')\n",
    "plt.ylabel('v3')\n",
    "plt.title('Relacion entre variables 2 y 3')"
   ]
  },
  {
   "cell_type": "markdown",
   "metadata": {},
   "source": [
    "Las variables 37 en delante son 5 variables categoricas que fueron codificadaas con 'one hot'. Para comprobarlo se suma sobre cada variable con letra diferente y se comprueba que la suma no da mas de 1, es decir, las variables no tienen valores cruzados."
   ]
  },
  {
   "cell_type": "code",
   "execution_count": 10,
   "metadata": {},
   "outputs": [
    {
     "name": "stdout",
     "output_type": "stream",
     "text": [
      "Valores cruzados variable tcs : 0\n",
      "Valores cruzados variable tc : 0\n",
      "Valores cruzados variable dv : 0\n",
      "Valores cruzados variable ae : 0\n",
      "Valores cruzados variable d : 0\n"
     ]
    }
   ],
   "source": [
    "train_np = train.to_numpy()\n",
    "# Las primeras 36 variables son no categóricas por lo que se acomodan en un vector distinto al de las variables categóricas\n",
    "train_np_nc = train_np[:,0:37]\n",
    "# El resto de la variables son categoricas y ya estan codificadas (modo one hot), por lo que no necesitan un preprocesamiento\n",
    "# de estandarización\n",
    "train_np_c = train_np[:,37:71]\n",
    "\n",
    "print('Valores cruzados variable tcs :',np.sum(np.sum(train_np_c[:,0:6], axis=1)>1))\n",
    "print('Valores cruzados variable tc :',np.sum(np.sum(train_np_c[:,6:17], axis=1)>1))\n",
    "print('Valores cruzados variable dv :',np.sum(train_np_c[:,17]>1))\n",
    "print('Valores cruzados variable ae :',np.sum(np.sum(train_np_c[:,18:32], axis=1)>1))\n",
    "print('Valores cruzados variable d :',np.sum(np.sum(train_np_c[:,32:34], axis=1)>1))"
   ]
  },
  {
   "cell_type": "markdown",
   "metadata": {},
   "source": [
    "La variable d70 son solo ceros, por lo que no brinda informacion y se puede eliminar del dataset"
   ]
  },
  {
   "cell_type": "code",
   "execution_count": 11,
   "metadata": {},
   "outputs": [
    {
     "name": "stdout",
     "output_type": "stream",
     "text": [
      "Instancias de de la variable 70 diferentes de 0\n"
     ]
    },
    {
     "data": {
      "text/html": [
       "<div>\n",
       "<style scoped>\n",
       "    .dataframe tbody tr th:only-of-type {\n",
       "        vertical-align: middle;\n",
       "    }\n",
       "\n",
       "    .dataframe tbody tr th {\n",
       "        vertical-align: top;\n",
       "    }\n",
       "\n",
       "    .dataframe thead th {\n",
       "        text-align: right;\n",
       "    }\n",
       "</style>\n",
       "<table border=\"1\" class=\"dataframe\">\n",
       "  <thead>\n",
       "    <tr style=\"text-align: right;\">\n",
       "      <th></th>\n",
       "      <th>label</th>\n",
       "      <th>d70</th>\n",
       "    </tr>\n",
       "    <tr>\n",
       "      <th>id</th>\n",
       "      <th></th>\n",
       "      <th></th>\n",
       "    </tr>\n",
       "  </thead>\n",
       "  <tbody>\n",
       "  </tbody>\n",
       "</table>\n",
       "</div>"
      ],
      "text/plain": [
       "Empty DataFrame\n",
       "Columns: [label, d70]\n",
       "Index: []"
      ]
     },
     "execution_count": 11,
     "metadata": {},
     "output_type": "execute_result"
    }
   ],
   "source": [
    "print('Instancias de de la variable 70 diferentes de 0')\n",
    "train.loc[train['d70']!=0, ['label','d70']]"
   ]
  },
  {
   "cell_type": "markdown",
   "metadata": {},
   "source": [
    "Algunas variables categóricas tienen muy pocas instancias por lo que se pueden juntar con otras de la misma clasificacion para quitar algunas variables innecesarias.\n",
    "En el siguiente código se imprime la suma total de instancias donde cada variable categórica es distinta de 0"
   ]
  },
  {
   "cell_type": "code",
   "execution_count": 12,
   "metadata": {},
   "outputs": [
    {
     "name": "stdout",
     "output_type": "stream",
     "text": [
      "[ 336 1389  297   71    8   46   10    6   21    1    1   24  626   36\n",
      " 1431    1   28  601  452  247  287   76    9   14   76  814    9   48\n",
      "   10   32   17   97  268    0]\n"
     ]
    }
   ],
   "source": [
    "# Los nombres de las variables sin contar la etiqueta\n",
    "variables_keys = train.keys()[0:-1]\n",
    "\n",
    "# Variables categoricas\n",
    "key_cat = variables_keys[~pd.Series(variables_keys).str.startswith('v')]\n",
    "train_c = train[key_cat]\n",
    "\n",
    "t_c =  train_c.to_numpy()\n",
    "train_label.shape\n",
    "t_c.shape\n",
    "print((np.sum(t_c,axis=0)))"
   ]
  },
  {
   "cell_type": "markdown",
   "metadata": {},
   "source": [
    "En la siguiente funcion se realizan todas las operaciones mencionadas en esta sección para eliminar variables o datos del conjunto de datos"
   ]
  },
  {
   "cell_type": "code",
   "execution_count": 13,
   "metadata": {},
   "outputs": [],
   "source": [
    "# Funcion que regresa el dataframe transformado\n",
    "def transforma_data_frame(df, df_base, threshold = .991):\n",
    "\n",
    "    # Se eliminan variable 36, 30 , 29 y 70\n",
    "    df_s = df.drop(['v29','v30','v36','d70'],axis = 1)\n",
    "\n",
    "    # Las variables categoricas se enlistan\n",
    "    var_cat = np.array(['tcs37', 'tcs38', 'tcs39',\n",
    "           'tcs40', 'tcs41', 'tcs42', 'tc43', 'tc44', 'tc45', 'tc46', 'tc47',\n",
    "           'tc48', 'tc49', 'tc50', 'tc51', 'tc52', 'tc53', 'dv54', 'ae55', 'ae56',\n",
    "           'ae57', 'ae58', 'ae59', 'ae60', 'ae61', 'ae62', 'ae63', 'ae64', 'ae65',\n",
    "           'ae66', 'ae67', 'ae68', 'd69', 'label'])\n",
    "\n",
    "    # indices de las columnas de variables categoricas que tienen muy pocas instancias\n",
    "    indice = np.any([[np.sum(df_base[var_cat], axis=0)<df_base.shape[0]*(1-threshold)],\n",
    "                     [np.sum(df_base[var_cat], axis=0)>df_base.shape[0]*threshold]], axis=0).reshape(-1,)\n",
    "\n",
    "\n",
    "    no_tcs = pd.Series(var_cat[indice][~pd.Series(var_cat[indice]).str.startswith('tcs')]).str.startswith('tc')\n",
    "\n",
    "    # variables eliminadas puestas en una lista\n",
    "    vars_el = np.array([var_cat[indice][pd.Series(var_cat[indice]).str.startswith('tcs')],\n",
    "              var_cat[indice][~pd.Series(var_cat[indice]).str.startswith('tcs')][no_tcs],\n",
    "              var_cat[indice][pd.Series(var_cat[indice]).str.startswith('dv')],\n",
    "              var_cat[indice][pd.Series(var_cat[indice]).str.startswith('ae')]])\n",
    "\n",
    "    # ciclo donde se eliminan las instancias\n",
    "    enu=0\n",
    "    for var_el in vars_el:\n",
    "        enu +=1 \n",
    "        if var_el.size>0:\n",
    "            # Se nombran las nuevas variables como 's'+numero\n",
    "            t_df = pd.DataFrame(np.sum(df_s[var_el],axis=1),columns=['s'+str(enu)])\n",
    "            df_s = pd.concat([df_s,t_df],axis = 1)\n",
    "\n",
    "    df_s = df_s.drop(var_cat[indice],axis=1)\n",
    "    \n",
    "    # vuelve a poner la columna label hasta el final\n",
    "    lab = pd.DataFrame(df_s['label'])\n",
    "    df_s = df_s.drop(['label'],axis=1)\n",
    "    df_s = pd.concat([df_s,lab],axis = 1)\n",
    "    \n",
    "    return df_s"
   ]
  },
  {
   "cell_type": "code",
   "execution_count": 14,
   "metadata": {},
   "outputs": [
    {
     "data": {
      "text/html": [
       "<div>\n",
       "<style scoped>\n",
       "    .dataframe tbody tr th:only-of-type {\n",
       "        vertical-align: middle;\n",
       "    }\n",
       "\n",
       "    .dataframe tbody tr th {\n",
       "        vertical-align: top;\n",
       "    }\n",
       "\n",
       "    .dataframe thead th {\n",
       "        text-align: right;\n",
       "    }\n",
       "</style>\n",
       "<table border=\"1\" class=\"dataframe\">\n",
       "  <thead>\n",
       "    <tr style=\"text-align: right;\">\n",
       "      <th></th>\n",
       "      <th>v0</th>\n",
       "      <th>v1</th>\n",
       "      <th>v2</th>\n",
       "      <th>v3</th>\n",
       "      <th>v4</th>\n",
       "      <th>v5</th>\n",
       "      <th>v6</th>\n",
       "      <th>v7</th>\n",
       "      <th>v8</th>\n",
       "      <th>v9</th>\n",
       "      <th>...</th>\n",
       "      <th>ae61</th>\n",
       "      <th>ae62</th>\n",
       "      <th>ae64</th>\n",
       "      <th>ae66</th>\n",
       "      <th>ae68</th>\n",
       "      <th>d69</th>\n",
       "      <th>s1</th>\n",
       "      <th>s2</th>\n",
       "      <th>s4</th>\n",
       "      <th>label</th>\n",
       "    </tr>\n",
       "    <tr>\n",
       "      <th>id</th>\n",
       "      <th></th>\n",
       "      <th></th>\n",
       "      <th></th>\n",
       "      <th></th>\n",
       "      <th></th>\n",
       "      <th></th>\n",
       "      <th></th>\n",
       "      <th></th>\n",
       "      <th></th>\n",
       "      <th></th>\n",
       "      <th></th>\n",
       "      <th></th>\n",
       "      <th></th>\n",
       "      <th></th>\n",
       "      <th></th>\n",
       "      <th></th>\n",
       "      <th></th>\n",
       "      <th></th>\n",
       "      <th></th>\n",
       "      <th></th>\n",
       "      <th></th>\n",
       "    </tr>\n",
       "  </thead>\n",
       "  <tbody>\n",
       "    <tr>\n",
       "      <td>1651</td>\n",
       "      <td>0.00</td>\n",
       "      <td>143270.10</td>\n",
       "      <td>100.0</td>\n",
       "      <td>0.0</td>\n",
       "      <td>0.0</td>\n",
       "      <td>63090564.44</td>\n",
       "      <td>4199850.00</td>\n",
       "      <td>0.0</td>\n",
       "      <td>6240000.0</td>\n",
       "      <td>17.0</td>\n",
       "      <td>...</td>\n",
       "      <td>0</td>\n",
       "      <td>0</td>\n",
       "      <td>0</td>\n",
       "      <td>0</td>\n",
       "      <td>0</td>\n",
       "      <td>0</td>\n",
       "      <td>0</td>\n",
       "      <td>0</td>\n",
       "      <td>0</td>\n",
       "      <td>0.0</td>\n",
       "    </tr>\n",
       "    <tr>\n",
       "      <td>1370</td>\n",
       "      <td>0.00</td>\n",
       "      <td>1403461.97</td>\n",
       "      <td>90.0</td>\n",
       "      <td>10.0</td>\n",
       "      <td>29.0</td>\n",
       "      <td>8013913.78</td>\n",
       "      <td>8177030.69</td>\n",
       "      <td>44951.9</td>\n",
       "      <td>0.0</td>\n",
       "      <td>12.0</td>\n",
       "      <td>...</td>\n",
       "      <td>0</td>\n",
       "      <td>0</td>\n",
       "      <td>0</td>\n",
       "      <td>0</td>\n",
       "      <td>0</td>\n",
       "      <td>0</td>\n",
       "      <td>0</td>\n",
       "      <td>0</td>\n",
       "      <td>0</td>\n",
       "      <td>1.0</td>\n",
       "    </tr>\n",
       "    <tr>\n",
       "      <td>2649</td>\n",
       "      <td>19800.24</td>\n",
       "      <td>63401.41</td>\n",
       "      <td>100.0</td>\n",
       "      <td>0.0</td>\n",
       "      <td>0.0</td>\n",
       "      <td>323384.60</td>\n",
       "      <td>67610.22</td>\n",
       "      <td>0.0</td>\n",
       "      <td>0.0</td>\n",
       "      <td>4.0</td>\n",
       "      <td>...</td>\n",
       "      <td>1</td>\n",
       "      <td>0</td>\n",
       "      <td>0</td>\n",
       "      <td>0</td>\n",
       "      <td>0</td>\n",
       "      <td>1</td>\n",
       "      <td>0</td>\n",
       "      <td>0</td>\n",
       "      <td>0</td>\n",
       "      <td>1.0</td>\n",
       "    </tr>\n",
       "    <tr>\n",
       "      <td>564</td>\n",
       "      <td>0.00</td>\n",
       "      <td>10585032.22</td>\n",
       "      <td>100.0</td>\n",
       "      <td>0.0</td>\n",
       "      <td>5.0</td>\n",
       "      <td>29596681.95</td>\n",
       "      <td>186964.54</td>\n",
       "      <td>0.0</td>\n",
       "      <td>4500000.0</td>\n",
       "      <td>11.0</td>\n",
       "      <td>...</td>\n",
       "      <td>0</td>\n",
       "      <td>0</td>\n",
       "      <td>0</td>\n",
       "      <td>0</td>\n",
       "      <td>0</td>\n",
       "      <td>0</td>\n",
       "      <td>0</td>\n",
       "      <td>0</td>\n",
       "      <td>0</td>\n",
       "      <td>0.0</td>\n",
       "    </tr>\n",
       "    <tr>\n",
       "      <td>2728</td>\n",
       "      <td>0.00</td>\n",
       "      <td>11259663.09</td>\n",
       "      <td>78.0</td>\n",
       "      <td>22.0</td>\n",
       "      <td>0.0</td>\n",
       "      <td>33626595.71</td>\n",
       "      <td>0.00</td>\n",
       "      <td>0.0</td>\n",
       "      <td>3972827.7</td>\n",
       "      <td>24.0</td>\n",
       "      <td>...</td>\n",
       "      <td>0</td>\n",
       "      <td>1</td>\n",
       "      <td>0</td>\n",
       "      <td>0</td>\n",
       "      <td>0</td>\n",
       "      <td>0</td>\n",
       "      <td>0</td>\n",
       "      <td>0</td>\n",
       "      <td>0</td>\n",
       "      <td>1.0</td>\n",
       "    </tr>\n",
       "  </tbody>\n",
       "</table>\n",
       "<p>5 rows × 60 columns</p>\n",
       "</div>"
      ],
      "text/plain": [
       "            v0           v1     v2    v3    v4           v5          v6  \\\n",
       "id                                                                        \n",
       "1651      0.00    143270.10  100.0   0.0   0.0  63090564.44  4199850.00   \n",
       "1370      0.00   1403461.97   90.0  10.0  29.0   8013913.78  8177030.69   \n",
       "2649  19800.24     63401.41  100.0   0.0   0.0    323384.60    67610.22   \n",
       "564       0.00  10585032.22  100.0   0.0   5.0  29596681.95   186964.54   \n",
       "2728      0.00  11259663.09   78.0  22.0   0.0  33626595.71        0.00   \n",
       "\n",
       "           v7         v8    v9  ...  ae61  ae62  ae64  ae66  ae68  d69  s1  \\\n",
       "id                              ...                                          \n",
       "1651      0.0  6240000.0  17.0  ...     0     0     0     0     0    0   0   \n",
       "1370  44951.9        0.0  12.0  ...     0     0     0     0     0    0   0   \n",
       "2649      0.0        0.0   4.0  ...     1     0     0     0     0    1   0   \n",
       "564       0.0  4500000.0  11.0  ...     0     0     0     0     0    0   0   \n",
       "2728      0.0  3972827.7  24.0  ...     0     1     0     0     0    0   0   \n",
       "\n",
       "      s2  s4  label  \n",
       "id                   \n",
       "1651   0   0    0.0  \n",
       "1370   0   0    1.0  \n",
       "2649   0   0    1.0  \n",
       "564    0   0    0.0  \n",
       "2728   0   0    1.0  \n",
       "\n",
       "[5 rows x 60 columns]"
      ]
     },
     "execution_count": 14,
     "metadata": {},
     "output_type": "execute_result"
    }
   ],
   "source": [
    "train_new = transforma_data_frame(train, train)\n",
    "train_new.head()"
   ]
  },
  {
   "cell_type": "markdown",
   "metadata": {},
   "source": [
    "## Preprocesamiento de variables\n",
    "En esta seccion se hace el preprocesamiento numerico de algunas variables antes de utilizarlas en el modelo. Esto se hace para que el modelo pueda tener una mayor capacidad de predicción.\n",
    "\n",
    "La siguiente funcion tiene el propósito de separar las variables categóricas de las no categóricas para poder realizar un preprocesamiento adecuado."
   ]
  },
  {
   "cell_type": "code",
   "execution_count": 15,
   "metadata": {},
   "outputs": [],
   "source": [
    "# Funcion para separar los datos en distintos dataframes\n",
    "def separa(df):\n",
    "\n",
    "    # Los nombres de las variables sin contar la etiqueta\n",
    "    variables_keys = df.keys()[0:-1]\n",
    "\n",
    "    # Variables no categoricas\n",
    "    key_cat = variables_keys[pd.Series(variables_keys).str.startswith('v')]\n",
    "    df_nc = df[key_cat]\n",
    "\n",
    "    # Variables categoricas\n",
    "    key_cat = variables_keys[~pd.Series(variables_keys).str.startswith('v')]\n",
    "    df_c = df[key_cat]\n",
    "    return df_nc,df_c"
   ]
  },
  {
   "cell_type": "code",
   "execution_count": 16,
   "metadata": {},
   "outputs": [],
   "source": [
    "# dataset separado en variables cateóricas y no categóricas\n",
    "train_nc,train_c = separa(train_new)"
   ]
  },
  {
   "cell_type": "code",
   "execution_count": 17,
   "metadata": {},
   "outputs": [],
   "source": [
    "from sklearn.decomposition import PCA\n",
    "from sklearn import preprocessing"
   ]
  },
  {
   "cell_type": "markdown",
   "metadata": {},
   "source": [
    "### Escalamiento de variables\n",
    "\n",
    "Variables distintas generalmente no estan en la misma escala, algunas pueden ser muy grandes o muy pequeñas comparadas con otras. Esto puede resultar en un problema al entrenar los modelos ya que las variables a mayor escala acapararan mas la atencion del modelo debido a su magnitud, a pesar de que pueden no ser realmente significativas para la prediccion.\n",
    "Para evitar esto, las variables se transforman a una misma escala y existen distintos métodos para esto. Algunas opciones son las siguientes\n",
    "\n",
    "- Estandarización\n",
    "\n",
    "Convierte los datos a una distribucion normal con un promedio de $\\mu = 0$ y una desviacion estandar de $\\sigma = 1$\n",
    "\n",
    "- Escalamiento unitario\n",
    "\n",
    "Escala los datos y los encapsula en valores entre 0 y 1 con la siguiente forma\n",
    "$$ x_{new} = \\frac{x- x_{min}}{x_{max}-x_{min}}$$\n",
    "\n",
    "Despues de algunas iteraciones para este problema en especifico, resultó que la operación de estandarizacion tuvo un mejor rendimiento que la de escalamiento unitario por lo que se utilizará dicho algoritmo."
   ]
  },
  {
   "cell_type": "markdown",
   "metadata": {},
   "source": [
    "###  Reduccion de numero de variables utilizando PCA (opcional)\n",
    "\n",
    "PCA (Analisis de componentes principales), es una técnica para reducir el numero de variables del problema. Al reducir el número de dimensiones del problema el tiempo de convergencia del algoritmo puede reducir drasticamente, aunque esto puede llegar a reducir la precisión del algoritmo debido a los datos que se pierden. El 'trade-off' entre precision y tiempo de convergencia del algoritmo es lo que debe tomar en cuenta el usuario al utilizar esta técnica de preprocesmiento.\n",
    "\n",
    "En este código se utiliza un PCA con un 95%, es decir se reduce la dimensionalidad conservando un 95% de la varianza de los datos del problema original."
   ]
  },
  {
   "cell_type": "code",
   "execution_count": 18,
   "metadata": {},
   "outputs": [
    {
     "data": {
      "text/plain": [
       "(2189, 26)"
      ]
     },
     "execution_count": 18,
     "metadata": {},
     "output_type": "execute_result"
    }
   ],
   "source": [
    "# Standardize the data\n",
    "scaler = preprocessing.StandardScaler().fit(train_nc.to_numpy())\n",
    "t_nc = scaler.transform(train_nc)\n",
    "\n",
    "# Data between 0 and 1\n",
    "#scaler = preprocessing.MinMaxScaler().fit(train_nc)\n",
    "#t_nc = scaler.transform(train_nc)\n",
    "\n",
    "pca = PCA(.95,svd_solver='auto').fit(t_nc)\n",
    "t_nc = pca.transform(t_nc)\n",
    "t_nc.shape"
   ]
  },
  {
   "cell_type": "markdown",
   "metadata": {},
   "source": [
    "# Modelos\n",
    "\n",
    "Una red neuronal multicapa (MLP-NN) de clasificacion fue utilizada para la solución de este problema\n",
    "\n",
    "Despues de varias iteraciones con distintas configuraciones para la red neuronal se utilizó una con 3 capas escondidas, la primera con 14 nodos, la segunda con 5 nodos y la última con 2. La funcion de activacion utilizada en las capas escondidas fue la ReLU (Rectified Linear Unit). un learning rate constante con valor de 0.001.\n",
    "\n",
    "Tambien se utilizó un random forest para clasificacion, utilizando el criterio de Gini y dandole un valor mayor a la clase minoritaria para la clasificacion.\n",
    "\n",
    "Los modelos fueron construidos utilizando la libreria [ScikitLearn](https://scikit-learn.org/stable/index.html)"
   ]
  },
  {
   "cell_type": "code",
   "execution_count": 19,
   "metadata": {},
   "outputs": [],
   "source": [
    "from sklearn.neural_network import MLPClassifier\n",
    "from sklearn.ensemble import RandomForestClassifier\n",
    "from sklearn.metrics import confusion_matrix, precision_recall_fscore_support, accuracy_score"
   ]
  },
  {
   "cell_type": "code",
   "execution_count": 20,
   "metadata": {},
   "outputs": [
    {
     "name": "stdout",
     "output_type": "stream",
     "text": [
      "(2189, 51)\n",
      "(548, 51)\n"
     ]
    }
   ],
   "source": [
    "# Junta nuevamente los datos de entrenaiento ya que estaban separados en categoricas y no categóricas\n",
    "X_train = np.concatenate((t_nc,train_c),axis=1)\n",
    "print(X_train.shape)\n",
    "y_train = train_label\n",
    "\n",
    "# Realiza las transformaciones necesarias al conjunto de test\n",
    "X_test = transforma_data_frame(test,train)\n",
    "X_test_nc,X_test_c = separa(X_test)\n",
    "X_test_nc = scaler.transform(X_test_nc)\n",
    "X_test_nc = pca.transform(X_test_nc)\n",
    "X_test = np.concatenate((X_test_nc,X_test_c),axis=1)\n",
    "print(X_test.shape)\n",
    "y_test = test_label"
   ]
  },
  {
   "cell_type": "code",
   "execution_count": 21,
   "metadata": {},
   "outputs": [
    {
     "data": {
      "text/plain": [
       "RandomForestClassifier(bootstrap=True, class_weight={0: 1, 1: 8},\n",
       "                       criterion='gini', max_depth=None, max_features='auto',\n",
       "                       max_leaf_nodes=None, min_impurity_decrease=0.0,\n",
       "                       min_impurity_split=None, min_samples_leaf=1,\n",
       "                       min_samples_split=2, min_weight_fraction_leaf=0.0,\n",
       "                       n_estimators=250, n_jobs=None, oob_score=False,\n",
       "                       random_state=0, verbose=0, warm_start=False)"
      ]
     },
     "execution_count": 21,
     "metadata": {},
     "output_type": "execute_result"
    }
   ],
   "source": [
    "RFC = RandomForestClassifier(n_estimators=250,random_state=0, criterion='gini', class_weight={0: 1,1: 8})\n",
    "RFC.fit(X_train,y_train)"
   ]
  },
  {
   "cell_type": "code",
   "execution_count": 22,
   "metadata": {},
   "outputs": [
    {
     "data": {
      "text/plain": [
       "MLPClassifier(activation='relu', alpha=1e-05, batch_size='auto', beta_1=0.9,\n",
       "              beta_2=0.999, early_stopping=False, epsilon=1e-08,\n",
       "              hidden_layer_sizes=(14, 5, 2), learning_rate='constant',\n",
       "              learning_rate_init=0.001, max_iter=800, momentum=0.9,\n",
       "              n_iter_no_change=10, nesterovs_momentum=True, power_t=0.5,\n",
       "              random_state=0, shuffle=True, solver='adam', tol=0.0001,\n",
       "              validation_fraction=0.1, verbose=False, warm_start=False)"
      ]
     },
     "execution_count": 22,
     "metadata": {},
     "output_type": "execute_result"
    }
   ],
   "source": [
    "# Neural network model fitting\n",
    "MLPC = MLPClassifier(solver='adam', alpha=1e-5, hidden_layer_sizes=(14,5,2), max_iter=800, random_state=0)\n",
    "MLPC.fit(X_train,y_train)"
   ]
  },
  {
   "cell_type": "markdown",
   "metadata": {},
   "source": [
    "### Evaluacion del modelo\n",
    "\n",
    "Para evaluar la capacidad de predicción del modelo se realiza una prueba del modelo entrenado en un conjunto de datos independiente, el cual el modelo no 'vio' al entrenarse.\n",
    "Las métricas de evaluacion tanto para el modelo de red neuronal como el de random forest, se utilizaron las fórmulas de precision y exhaustividad asi como la metrica de F que es una combinacion de ambas métricas, las métricas se definen de la siguiente manera\n",
    "\n",
    "$$Precision = \\frac{vp}{vp+fp}$$\n",
    "\n",
    "\n",
    "$$Exhaustividad = \\frac{vp}{vp+fn}$$\n",
    "\n",
    "\n",
    "$$F(\\beta) = (1+\\beta^2)(\\frac{precision \\times exhaustividad}{\\beta^2 precision + exhaustividad})$$\n",
    "\n",
    "Donde vp significa verdaderos positivos, fp falsos positivos (casos que son negativos pero fueron predichos como positivos) y fn falsos negativos (casos que eran positivos pero fueron clasificados como negativos)."
   ]
  },
  {
   "cell_type": "code",
   "execution_count": 23,
   "metadata": {},
   "outputs": [
    {
     "name": "stdout",
     "output_type": "stream",
     "text": [
      "MLP-NN coeficiente de determinacion en el test set: 0.9124087591240876\n",
      "Random forest coeficiente de determinacion en el test: 0.9197080291970803\n"
     ]
    }
   ],
   "source": [
    "print(\"MLP-NN coeficiente de determinacion en el test set:\", (MLPC.score(X_test,y_test)))\n",
    "print(\"Random forest coeficiente de determinacion en el test:\", (RFC.score(X_test,y_test)))"
   ]
  },
  {
   "cell_type": "code",
   "execution_count": 24,
   "metadata": {},
   "outputs": [
    {
     "name": "stdout",
     "output_type": "stream",
     "text": [
      "La matriz de confusion de Random Forest es para los datos en el test set: \n",
      " [[413  27]\n",
      " [ 17  91]]\n",
      "La matriz de confusion de la red neuronal es para los datos en el test set: \n",
      " [[410  30]\n",
      " [ 18  90]]\n"
     ]
    },
    {
     "data": {
      "image/png": "[encoded data removed]",
      "text/plain": [
       "<Figure size 576x504 with 2 Axes>"
      ]
     },
     "metadata": {
      "needs_background": "light"
     },
     "output_type": "display_data"
    },
    {
     "data": {
      "image/png": "[encoded data removed]",
      "text/plain": [
       "<Figure size 576x504 with 2 Axes>"
      ]
     },
     "metadata": {},
     "output_type": "display_data"
    }
   ],
   "source": [
    "y_pred_MLP = MLPC.predict(X_test)\n",
    "y_pred_RF = RFC.predict(X_test)\n",
    "\n",
    "print(f'La matriz de confusion de Random Forest es para los datos en el test set: \\n {confusion_matrix(y_test, y_pred_RF)}')\n",
    "print(f'La matriz de confusion de la red neuronal es para los datos en el test set: \\n {confusion_matrix(y_test, y_pred_MLP)}')\n",
    "\n",
    "\n",
    "plt.figure(figsize=(8,7))\n",
    "sn.set(font_scale=1.2) # for label size\n",
    "sn.heatmap(confusion_matrix(y_test, y_pred_RF), annot=True, fmt=\"d\") # font size\n",
    "plt.title('Random forest')\n",
    "plt.xlabel('Valores predichos')\n",
    "plt.ylabel('Valores verdaderos')\n",
    "plt.show()\n",
    "\n",
    "plt.figure(figsize=(8,7))\n",
    "sn.set(font_scale=1.2) # for label size\n",
    "sn.heatmap(confusion_matrix(y_test, y_pred_MLP), annot=True, fmt=\"d\") # font size\n",
    "plt.title('Red neuronal')\n",
    "plt.xlabel('Valores predichos')\n",
    "plt.ylabel('Valores verdaderos')\n",
    "plt.show()"
   ]
  },
  {
   "cell_type": "markdown",
   "metadata": {},
   "source": [
    "Debido a que estamos analizando un sistema de pagos de crédito, los casos positivos en los que el cliente o empresa no pagó tienen una mayor importancia para los inversionistas, por lo que para este problema la exhaustividad es mas importante que la precisión. Es por eso que se decidió utilizar una beta mayor a 1 para darle mas importancia a la exhaustividad. "
   ]
  },
  {
   "cell_type": "code",
   "execution_count": 25,
   "metadata": {},
   "outputs": [
    {
     "name": "stdout",
     "output_type": "stream",
     "text": [
      "Para random forest\n",
      "La precision en los datos de prueba es: 0.7712\n",
      "El recall en los datos de prueba es: 0.8426\n",
      "El F1 en los datos de prueba es: 0.8193\n"
     ]
    }
   ],
   "source": [
    "Metrics = precision_recall_fscore_support(y_test, y_pred_RF, average='binary', beta = 1.5)\n",
    "\n",
    "print('Para random forest')\n",
    "print(f'La precision en los datos de prueba es: {Metrics[0]:0.4f}')\n",
    "print(f'El recall en los datos de prueba es: {Metrics[1]:0.4f}')\n",
    "print(f'El F1 en los datos de prueba es: {Metrics[2]:0.4f}')"
   ]
  },
  {
   "cell_type": "markdown",
   "metadata": {},
   "source": [
    "## Conclusion\n",
    "\n",
    "El modelo arrojó un F con un valor de 0.81, lo cual indica que el modelo utilizado tiene una alta capacidad de predecir de manera correcta si un cliente va a pagar o no el crédito que se le dió"
   ]
  },
  {
   "cell_type": "code",
   "execution_count": null,
   "metadata": {},
   "outputs": [],
   "source": []
  }
 ],
 "metadata": {
  "kernelspec": {
   "display_name": "Python 3",
   "language": "python",
   "name": "python3"
  },
  "language_info": {
   "codemirror_mode": {
    "name": "ipython",
    "version": 3
   },
   "file_extension": ".py",
   "mimetype": "text/x-python",
   "name": "python",
   "nbconvert_exporter": "python",
   "pygments_lexer": "ipython3",
   "version": "3.7.4"
  }
 },
 "nbformat": 4,
 "nbformat_minor": 2
}
